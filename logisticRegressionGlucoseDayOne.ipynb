{
  "nbformat": 4,
  "nbformat_minor": 0,
  "metadata": {
    "colab": {
      "provenance": [],
      "include_colab_link": true
    },
    "kernelspec": {
      "name": "python3",
      "display_name": "Python 3"
    },
    "language_info": {
      "name": "python"
    }
  },
  "cells": [
    {
      "cell_type": "markdown",
      "metadata": {
        "id": "view-in-github",
        "colab_type": "text"
      },
      "source": [
        "<a href=\"https://colab.research.google.com/github/e754/Glucose-Research/blob/main/logisticRegressionGlucoseDayOne.ipynb\" target=\"_parent\"><img src=\"https://colab.research.google.com/assets/colab-badge.svg\" alt=\"Open In Colab\"/></a>"
      ]
    },
    {
      "cell_type": "code",
      "source": [
        "from sklearn.model_selection import train_test_split\n",
        "from sklearn.linear_model import LogisticRegression\n",
        "from sklearn.model_selection import train_test_split\n",
        "from sklearn.metrics import accuracy_score\n",
        "from sklearn.metrics import classification_report\n",
        "from sklearn.utils import resample\n",
        "from imblearn.over_sampling import SMOTE\n",
        "import numpy as np"
      ],
      "metadata": {
        "id": "nIb9_6pTXpL0"
      },
      "execution_count": null,
      "outputs": []
    },
    {
      "cell_type": "code",
      "execution_count": null,
      "metadata": {
        "colab": {
          "base_uri": "https://localhost:8080/"
        },
        "id": "nrdiy7QrGQb9",
        "outputId": "8c7381ee-54e3-497e-8fd4-7d350693ca15"
      },
      "outputs": [
        {
          "output_type": "stream",
          "name": "stdout",
          "text": [
            "Drive already mounted at /content/drive; to attempt to forcibly remount, call drive.mount(\"/content/drive\", force_remount=True).\n"
          ]
        }
      ],
      "source": [
        "from google.colab import drive\n",
        "drive.mount('/content/drive')\n",
        "from sklearn.preprocessing import LabelEncoder\n",
        "label_encoder = LabelEncoder()\n",
        "\n",
        "import pandas as pd\n",
        "data = pd.read_csv('/content/drive/MyDrive/GlucoseData/Regression models/mimicIVLogisticGlucoseData.csv')"
      ]
    },
    {
      "cell_type": "code",
      "source": [
        "data['race'].unique()"
      ],
      "metadata": {
        "colab": {
          "base_uri": "https://localhost:8080/"
        },
        "id": "Pqrskqky4FT4",
        "outputId": "fcf8b4da-1f54-4060-e045-140228a7ec24"
      },
      "execution_count": null,
      "outputs": [
        {
          "output_type": "execute_result",
          "data": {
            "text/plain": [
              "array(['Other', 'White', 'Asian', 'Hispanic', 'Black', 'OTHER'],\n",
              "      dtype=object)"
            ]
          },
          "metadata": {},
          "execution_count": 3
        }
      ]
    },
    {
      "cell_type": "code",
      "source": [
        "data.info()"
      ],
      "metadata": {
        "colab": {
          "base_uri": "https://localhost:8080/"
        },
        "id": "zTBINsqKePNt",
        "outputId": "665282ca-c17c-4481-cf53-5af1b9100128"
      },
      "execution_count": null,
      "outputs": [
        {
          "output_type": "stream",
          "name": "stdout",
          "text": [
            "<class 'pandas.core.frame.DataFrame'>\n",
            "RangeIndex: 29608 entries, 0 to 29607\n",
            "Data columns (total 35 columns):\n",
            " #   Column                      Non-Null Count  Dtype  \n",
            "---  ------                      --------------  -----  \n",
            " 0   subject_id                  29608 non-null  int64  \n",
            " 1   hadm_id                     29608 non-null  int64  \n",
            " 2   stay_id                     29608 non-null  int64  \n",
            " 3   intime                      29608 non-null  object \n",
            " 4   outtime                     29608 non-null  object \n",
            " 5   los                         29608 non-null  float64\n",
            " 6   age                         29608 non-null  int64  \n",
            " 7   anchor_year_group           29608 non-null  object \n",
            " 8   race                        29608 non-null  object \n",
            " 9   admElective                 29608 non-null  bool   \n",
            " 10  uti                         192 non-null    float64\n",
            " 11  pneumonia                   1349 non-null   float64\n",
            " 12  biliary                     82 non-null     float64\n",
            " 13  skin                        47 non-null     float64\n",
            " 14  hypertension_present        7381 non-null   float64\n",
            " 15  heart_failure_present       4336 non-null   float64\n",
            " 16  copd_present                2771 non-null   float64\n",
            " 17  asthma_present              91 non-null     float64\n",
            " 18  cad_present                 4341 non-null   float64\n",
            " 19  ckd_stages                  1891 non-null   float64\n",
            " 20  diabetes_types              3758 non-null   float64\n",
            " 21  connective_disease          502 non-null    float64\n",
            " 22  hadInsulinDayOne            29608 non-null  bool   \n",
            " 23  charlson_comorbidity_index  29608 non-null  int64  \n",
            " 24  diabetes_with_cc            29608 non-null  int64  \n",
            " 25  diabetes_without_cc         29608 non-null  int64  \n",
            " 26  age_score                   29608 non-null  int64  \n",
            " 27  sofa                        29608 non-null  int64  \n",
            " 28  cardiovascular              29583 non-null  float64\n",
            " 29  cns                         29575 non-null  float64\n",
            " 30  coagulation                 29537 non-null  float64\n",
            " 31  liver                       17912 non-null  float64\n",
            " 32  renal                       29606 non-null  float64\n",
            " 33  respiration                 17738 non-null  float64\n",
            " 34  hadMeasurmentDayOne         29580 non-null  object \n",
            "dtypes: bool(2), float64(19), int64(9), object(5)\n",
            "memory usage: 7.5+ MB\n"
          ]
        }
      ]
    },
    {
      "cell_type": "code",
      "source": [
        "data.fillna(0, inplace=True)\n",
        "data['diabetes_types'] = data['diabetes_types'].replace(0, 'none')\n",
        "data['diabetes_types'] = data['diabetes_types'].replace(1.0, 'one')\n",
        "data['diabetes_types'] = data['diabetes_types'].replace(2.0, 'two')\n",
        "data['race'] = data['race'].replace('OTHER', 'Other')\n",
        "\n",
        "data['admElective'] = label_encoder.fit_transform(data['admElective'])\n",
        "data['hadInsulinDayOne'] = label_encoder.fit_transform(data['hadInsulinDayOne'])\n",
        "data['hadMeasurmentDayOne'] = label_encoder.fit_transform(data['hadMeasurmentDayOne'])\n",
        "niceColumns=[\"uti\", \"biliary\", \"skin\",'sofa', 'hypertension_present','heart_failure_present','copd_present','cad_present']\n",
        "\n",
        "categorical_vars = ['anchor_year_group', 'race','diabetes_types']\n",
        "dummy_vars = pd.get_dummies(data[categorical_vars])\n",
        "dummy_vars = dummy_vars.drop(columns=['race_Other'])\n",
        "dummy_vars = dummy_vars.drop(columns=['anchor_year_group_2008 - 2010'])\n",
        "dummy_vars = dummy_vars.drop(columns=['diabetes_types_none'])\n",
        "\n",
        "data = pd.concat([data, dummy_vars], axis=1)\n",
        "\n",
        "\n",
        "continuous_vars = ['ckd_stages','age','charlson_comorbidity_index','diabetes_with_cc','diabetes_without_cc']\n",
        "#,'sofa','cardiovascular','cns','coagulation','liver','renal','respiration'\n",
        "independent = data[continuous_vars + list(dummy_vars.columns)+niceColumns]\n",
        "dependent = data['hadMeasurmentDayOne']"
      ],
      "metadata": {
        "id": "KSq84CwNnsW-"
      },
      "execution_count": null,
      "outputs": []
    },
    {
      "cell_type": "code",
      "source": [],
      "metadata": {
        "id": "OFSPkxMv-xKp"
      },
      "execution_count": null,
      "outputs": []
    },
    {
      "cell_type": "code",
      "source": [
        "from sklearn.metrics import roc_curve\n",
        "import matplotlib.pyplot as plt\n",
        "def test_model(X_test, y_test, model):\n",
        "\n",
        "    y_pred = model.predict(X_test)\n",
        "    print(classification_report(y_true=y_test, y_pred=y_pred))\n",
        "    fpr, tpr, _ = roc_curve(y_test,  y_pred)\n",
        "\n",
        "    #create ROC curve\n",
        "    plt.plot(fpr,tpr)\n",
        "    plt.title('ROC Curve')\n",
        "    plt.ylabel('True Positive Rate')\n",
        "    plt.xlabel('False Positive Rate')\n",
        "    plt.show()"
      ],
      "metadata": {
        "id": "2ExE_Hs_Xfcm"
      },
      "execution_count": null,
      "outputs": []
    },
    {
      "cell_type": "code",
      "source": [
        "#all patients\n",
        "import statsmodels.api as sm\n",
        "\n",
        "\n",
        "\n",
        "X_train, X_test, y_train, y_test = train_test_split(independent, dependent, test_size=0.25, random_state=16)\n",
        "\n",
        "\n",
        "\n",
        "minority_x = X_train[y_train==0]\n",
        "minority_y = y_train[y_train==0]\n",
        "majority_x = X_train[y_train==1]\n",
        "majority_y = y_train[y_train==1]\n",
        "\n",
        "# Perform oversampling on the minority class\n",
        "minority_size = len(minority_x)\n",
        "majority_size = len(majority_x)\n",
        "\n",
        "oversampled_minority_x, oversampled_minority_y = resample(\n",
        "minority_x, minority_y, replace=True, n_samples=len(majority_x)\n",
        ")\n",
        "\n",
        "\n",
        "# Combine oversampled minority and majority\n",
        "x_train_final = pd.concat([oversampled_minority_x, majority_x])\n",
        "y_train_final = pd.concat([oversampled_minority_y, majority_y])\n",
        "\n",
        "logit_model = sm.Logit(y_train_final, x_train_final)\n",
        "logit_model.fit_regularized(start_params=None,method = 'l1',alpha = 0)\n",
        "result = logit_model.fit()\n",
        "odds_ratio = np.exp(result.params)\n",
        "ci = np.exp(result.conf_int())\n",
        "\n",
        "# Create a DataFrame to display the results\n",
        "results_df = pd.DataFrame({'Odds Ratio': odds_ratio, 'Lower CI': ci[0], 'Upper CI': ci[1]})\n",
        "print(results_df)\n",
        "# Find the odds ratio and its confidence interval\n"
      ],
      "metadata": {
        "id": "tGEVk1fahdr8",
        "colab": {
          "base_uri": "https://localhost:8080/"
        },
        "outputId": "dd46a6ae-55e0-406a-8e39-9ce009cf5bed"
      },
      "execution_count": null,
      "outputs": [
        {
          "output_type": "stream",
          "name": "stdout",
          "text": [
            "Optimization terminated successfully    (Exit mode 0)\n",
            "            Current function value: 0.6722971145354101\n",
            "            Iterations: 133\n",
            "            Function evaluations: 137\n",
            "            Gradient evaluations: 133\n",
            "Optimization terminated successfully.\n",
            "         Current function value: 0.672297\n",
            "         Iterations 5\n",
            "                               Odds Ratio  Lower CI  Upper CI\n",
            "ckd_stages                       0.998437  0.972936  1.024607\n",
            "age                              0.993224  0.992133  0.994316\n",
            "charlson_comorbidity_index       1.021960  1.012753  1.031251\n",
            "diabetes_with_cc                 1.162204  1.070752  1.261468\n",
            "diabetes_without_cc              1.779212  1.681427  1.882683\n",
            "anchor_year_group_2011 - 2013    0.970324  0.923346  1.019692\n",
            "anchor_year_group_2014 - 2016    1.174347  1.112628  1.239491\n",
            "anchor_year_group_2017 - 2019    1.119854  1.046214  1.198677\n",
            "race_Asian                       0.601823  0.534301  0.677879\n",
            "race_Black                       0.731991  0.677005  0.791443\n",
            "race_Hispanic                    0.831495  0.741709  0.932151\n",
            "race_White                       0.866949  0.822720  0.913556\n",
            "diabetes_types_one               1.294388  1.031977  1.623525\n",
            "diabetes_types_two               1.347741  1.217845  1.491492\n",
            "uti                              0.523556  0.413164  0.663444\n",
            "biliary                          0.240532  0.173868  0.332757\n",
            "skin                             0.303061  0.196028  0.468534\n",
            "sofa                             1.054273  1.048266  1.060314\n",
            "hypertension_present             0.991608  0.927947  1.059637\n",
            "heart_failure_present            1.178030  1.089883  1.273306\n",
            "copd_present                     0.879248  0.813311  0.950530\n",
            "cad_present                      0.988590  0.916725  1.066089\n"
          ]
        }
      ]
    },
    {
      "cell_type": "code",
      "source": [
        "y_test"
      ],
      "metadata": {
        "colab": {
          "base_uri": "https://localhost:8080/"
        },
        "id": "oQADn1lNihSQ",
        "outputId": "ab3acccf-9916-45c1-acf1-11d909882c5c"
      },
      "execution_count": null,
      "outputs": [
        {
          "output_type": "execute_result",
          "data": {
            "text/plain": [
              "754      0\n",
              "16149    1\n",
              "21886    1\n",
              "26850    1\n",
              "14257    1\n",
              "        ..\n",
              "17126    1\n",
              "4481     1\n",
              "7816     1\n",
              "25651    1\n",
              "28863    1\n",
              "Name: hadMeasurmentDayOne, Length: 7402, dtype: int64"
            ]
          },
          "metadata": {},
          "execution_count": 8
        }
      ]
    },
    {
      "cell_type": "code",
      "source": [
        "predicted_probs = result.predict(X_test)\n",
        "\n",
        "# Convert predicted probabilities to binary predictions (0 or 1)\n",
        "predicted_values = (predicted_probs >= 0.5).astype(int)\n",
        "\n",
        "# Compare predicted values with actual values and calculate accuracy\n",
        "accuracy = (predicted_values == y_test).mean()\n"
      ],
      "metadata": {
        "id": "_t4jATjve6Kf"
      },
      "execution_count": null,
      "outputs": []
    },
    {
      "cell_type": "code",
      "source": [
        "accuracy"
      ],
      "metadata": {
        "colab": {
          "base_uri": "https://localhost:8080/"
        },
        "id": "-5EtFhI_iV77",
        "outputId": "8747cc23-4b79-4401-85ed-1dd0e6db4356"
      },
      "execution_count": null,
      "outputs": [
        {
          "output_type": "execute_result",
          "data": {
            "text/plain": [
              "0.5210753850310726"
            ]
          },
          "metadata": {},
          "execution_count": 10
        }
      ]
    },
    {
      "cell_type": "code",
      "source": [
        "result.summary()"
      ],
      "metadata": {
        "colab": {
          "base_uri": "https://localhost:8080/",
          "height": 675
        },
        "id": "rb5xjM-PA_l-",
        "outputId": "69e2584f-5ec8-4abe-97c9-a2bf7f141534"
      },
      "execution_count": null,
      "outputs": [
        {
          "output_type": "execute_result",
          "data": {
            "text/plain": [
              "<class 'statsmodels.iolib.summary.Summary'>\n",
              "\"\"\"\n",
              "                            Logit Regression Results                           \n",
              "===============================================================================\n",
              "Dep. Variable:     hadMeasurmentDayOne   No. Observations:                40698\n",
              "Model:                           Logit   Df Residuals:                    40676\n",
              "Method:                            MLE   Df Model:                           21\n",
              "Date:                 Fri, 07 Jul 2023   Pseudo R-squ.:                 0.03008\n",
              "Time:                         22:58:47   Log-Likelihood:                -27361.\n",
              "converged:                        True   LL-Null:                       -28210.\n",
              "Covariance Type:             nonrobust   LLR p-value:                     0.000\n",
              "=================================================================================================\n",
              "                                    coef    std err          z      P>|z|      [0.025      0.975]\n",
              "-------------------------------------------------------------------------------------------------\n",
              "ckd_stages                       -0.0016      0.013     -0.118      0.906      -0.027       0.024\n",
              "age                              -0.0068      0.001    -12.130      0.000      -0.008      -0.006\n",
              "charlson_comorbidity_index        0.0217      0.005      4.704      0.000       0.013       0.031\n",
              "diabetes_with_cc                  0.1503      0.042      3.595      0.000       0.068       0.232\n",
              "diabetes_without_cc               0.5762      0.029     19.977      0.000       0.520       0.633\n",
              "anchor_year_group_2011 - 2013    -0.0301      0.025     -1.190      0.234      -0.080       0.020\n",
              "anchor_year_group_2014 - 2016     0.1607      0.028      5.834      0.000       0.107       0.215\n",
              "anchor_year_group_2017 - 2019     0.1132      0.035      3.262      0.001       0.045       0.181\n",
              "race_Asian                       -0.5078      0.061     -8.363      0.000      -0.627      -0.389\n",
              "race_Black                       -0.3120      0.040     -7.831      0.000      -0.390      -0.234\n",
              "race_Hispanic                    -0.1845      0.058     -3.165      0.002      -0.299      -0.070\n",
              "race_White                       -0.1428      0.027     -5.344      0.000      -0.195      -0.090\n",
              "diabetes_types_one                0.2580      0.116      2.232      0.026       0.031       0.485\n",
              "diabetes_types_two                0.2984      0.052      5.771      0.000       0.197       0.400\n",
              "uti                              -0.6471      0.121     -5.356      0.000      -0.884      -0.410\n",
              "biliary                          -1.4249      0.166     -8.605      0.000      -1.749      -1.100\n",
              "skin                             -1.1938      0.222     -5.371      0.000      -1.629      -0.758\n",
              "sofa                              0.0529      0.003     18.130      0.000       0.047       0.059\n",
              "hypertension_present             -0.0084      0.034     -0.249      0.803      -0.075       0.058\n",
              "heart_failure_present             0.1638      0.040      4.129      0.000       0.086       0.242\n",
              "copd_present                     -0.1287      0.040     -3.236      0.001      -0.207      -0.051\n",
              "cad_present                      -0.0115      0.039     -0.298      0.766      -0.087       0.064\n",
              "=================================================================================================\n",
              "\"\"\""
            ],
            "text/html": [
              "<table class=\"simpletable\">\n",
              "<caption>Logit Regression Results</caption>\n",
              "<tr>\n",
              "  <th>Dep. Variable:</th>   <td>hadMeasurmentDayOne</td> <th>  No. Observations:  </th>  <td> 40698</td> \n",
              "</tr>\n",
              "<tr>\n",
              "  <th>Model:</th>                  <td>Logit</td>        <th>  Df Residuals:      </th>  <td> 40676</td> \n",
              "</tr>\n",
              "<tr>\n",
              "  <th>Method:</th>                  <td>MLE</td>         <th>  Df Model:          </th>  <td>    21</td> \n",
              "</tr>\n",
              "<tr>\n",
              "  <th>Date:</th>             <td>Fri, 07 Jul 2023</td>   <th>  Pseudo R-squ.:     </th>  <td>0.03008</td>\n",
              "</tr>\n",
              "<tr>\n",
              "  <th>Time:</th>                 <td>22:58:47</td>       <th>  Log-Likelihood:    </th> <td> -27361.</td>\n",
              "</tr>\n",
              "<tr>\n",
              "  <th>converged:</th>              <td>True</td>         <th>  LL-Null:           </th> <td> -28210.</td>\n",
              "</tr>\n",
              "<tr>\n",
              "  <th>Covariance Type:</th>      <td>nonrobust</td>      <th>  LLR p-value:       </th>  <td> 0.000</td> \n",
              "</tr>\n",
              "</table>\n",
              "<table class=\"simpletable\">\n",
              "<tr>\n",
              "                <td></td>                   <th>coef</th>     <th>std err</th>      <th>z</th>      <th>P>|z|</th>  <th>[0.025</th>    <th>0.975]</th>  \n",
              "</tr>\n",
              "<tr>\n",
              "  <th>ckd_stages</th>                    <td>   -0.0016</td> <td>    0.013</td> <td>   -0.118</td> <td> 0.906</td> <td>   -0.027</td> <td>    0.024</td>\n",
              "</tr>\n",
              "<tr>\n",
              "  <th>age</th>                           <td>   -0.0068</td> <td>    0.001</td> <td>  -12.130</td> <td> 0.000</td> <td>   -0.008</td> <td>   -0.006</td>\n",
              "</tr>\n",
              "<tr>\n",
              "  <th>charlson_comorbidity_index</th>    <td>    0.0217</td> <td>    0.005</td> <td>    4.704</td> <td> 0.000</td> <td>    0.013</td> <td>    0.031</td>\n",
              "</tr>\n",
              "<tr>\n",
              "  <th>diabetes_with_cc</th>              <td>    0.1503</td> <td>    0.042</td> <td>    3.595</td> <td> 0.000</td> <td>    0.068</td> <td>    0.232</td>\n",
              "</tr>\n",
              "<tr>\n",
              "  <th>diabetes_without_cc</th>           <td>    0.5762</td> <td>    0.029</td> <td>   19.977</td> <td> 0.000</td> <td>    0.520</td> <td>    0.633</td>\n",
              "</tr>\n",
              "<tr>\n",
              "  <th>anchor_year_group_2011 - 2013</th> <td>   -0.0301</td> <td>    0.025</td> <td>   -1.190</td> <td> 0.234</td> <td>   -0.080</td> <td>    0.020</td>\n",
              "</tr>\n",
              "<tr>\n",
              "  <th>anchor_year_group_2014 - 2016</th> <td>    0.1607</td> <td>    0.028</td> <td>    5.834</td> <td> 0.000</td> <td>    0.107</td> <td>    0.215</td>\n",
              "</tr>\n",
              "<tr>\n",
              "  <th>anchor_year_group_2017 - 2019</th> <td>    0.1132</td> <td>    0.035</td> <td>    3.262</td> <td> 0.001</td> <td>    0.045</td> <td>    0.181</td>\n",
              "</tr>\n",
              "<tr>\n",
              "  <th>race_Asian</th>                    <td>   -0.5078</td> <td>    0.061</td> <td>   -8.363</td> <td> 0.000</td> <td>   -0.627</td> <td>   -0.389</td>\n",
              "</tr>\n",
              "<tr>\n",
              "  <th>race_Black</th>                    <td>   -0.3120</td> <td>    0.040</td> <td>   -7.831</td> <td> 0.000</td> <td>   -0.390</td> <td>   -0.234</td>\n",
              "</tr>\n",
              "<tr>\n",
              "  <th>race_Hispanic</th>                 <td>   -0.1845</td> <td>    0.058</td> <td>   -3.165</td> <td> 0.002</td> <td>   -0.299</td> <td>   -0.070</td>\n",
              "</tr>\n",
              "<tr>\n",
              "  <th>race_White</th>                    <td>   -0.1428</td> <td>    0.027</td> <td>   -5.344</td> <td> 0.000</td> <td>   -0.195</td> <td>   -0.090</td>\n",
              "</tr>\n",
              "<tr>\n",
              "  <th>diabetes_types_one</th>            <td>    0.2580</td> <td>    0.116</td> <td>    2.232</td> <td> 0.026</td> <td>    0.031</td> <td>    0.485</td>\n",
              "</tr>\n",
              "<tr>\n",
              "  <th>diabetes_types_two</th>            <td>    0.2984</td> <td>    0.052</td> <td>    5.771</td> <td> 0.000</td> <td>    0.197</td> <td>    0.400</td>\n",
              "</tr>\n",
              "<tr>\n",
              "  <th>uti</th>                           <td>   -0.6471</td> <td>    0.121</td> <td>   -5.356</td> <td> 0.000</td> <td>   -0.884</td> <td>   -0.410</td>\n",
              "</tr>\n",
              "<tr>\n",
              "  <th>biliary</th>                       <td>   -1.4249</td> <td>    0.166</td> <td>   -8.605</td> <td> 0.000</td> <td>   -1.749</td> <td>   -1.100</td>\n",
              "</tr>\n",
              "<tr>\n",
              "  <th>skin</th>                          <td>   -1.1938</td> <td>    0.222</td> <td>   -5.371</td> <td> 0.000</td> <td>   -1.629</td> <td>   -0.758</td>\n",
              "</tr>\n",
              "<tr>\n",
              "  <th>sofa</th>                          <td>    0.0529</td> <td>    0.003</td> <td>   18.130</td> <td> 0.000</td> <td>    0.047</td> <td>    0.059</td>\n",
              "</tr>\n",
              "<tr>\n",
              "  <th>hypertension_present</th>          <td>   -0.0084</td> <td>    0.034</td> <td>   -0.249</td> <td> 0.803</td> <td>   -0.075</td> <td>    0.058</td>\n",
              "</tr>\n",
              "<tr>\n",
              "  <th>heart_failure_present</th>         <td>    0.1638</td> <td>    0.040</td> <td>    4.129</td> <td> 0.000</td> <td>    0.086</td> <td>    0.242</td>\n",
              "</tr>\n",
              "<tr>\n",
              "  <th>copd_present</th>                  <td>   -0.1287</td> <td>    0.040</td> <td>   -3.236</td> <td> 0.001</td> <td>   -0.207</td> <td>   -0.051</td>\n",
              "</tr>\n",
              "<tr>\n",
              "  <th>cad_present</th>                   <td>   -0.0115</td> <td>    0.039</td> <td>   -0.298</td> <td> 0.766</td> <td>   -0.087</td> <td>    0.064</td>\n",
              "</tr>\n",
              "</table>"
            ]
          },
          "metadata": {},
          "execution_count": 11
        }
      ]
    },
    {
      "cell_type": "code",
      "source": [],
      "metadata": {
        "id": "AzkJjlwqB2pX"
      },
      "execution_count": null,
      "outputs": []
    }
  ]
}