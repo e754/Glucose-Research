{
  "nbformat": 4,
  "nbformat_minor": 0,
  "metadata": {
    "colab": {
      "provenance": []
    },
    "kernelspec": {
      "name": "python3",
      "display_name": "Python 3"
    },
    "language_info": {
      "name": "python"
    }
  },
  "cells": [
    {
      "cell_type": "code",
      "source": [
        "from sklearn.model_selection import train_test_split\n",
        "from sklearn.linear_model import LogisticRegression\n",
        "from sklearn.model_selection import train_test_split\n",
        "from sklearn.metrics import accuracy_score\n",
        "from sklearn.metrics import classification_report\n",
        "from sklearn.utils import resample\n",
        "from imblearn.over_sampling import SMOTE\n",
        "import numpy as np\n",
        "import random\n",
        "import sklearn"
      ],
      "metadata": {
        "id": "nIb9_6pTXpL0"
      },
      "execution_count": 1,
      "outputs": []
    },

    {
      "cell_type": "code",
      "source": [
        "import os\n",
        "from sklearn.preprocessing import LabelEncoder\n",
        "import pandas as pd\n",
        "current_path = os.path.abspath('.')\n",
        "label_encoder = LabelEncoder()\n",
        "fi=os.path.abspath('../../data/cohortedData.csv')\n",
        "data = pd.read_csv(fi)\n",
        "data.fillna(0, inplace=True)"
      ],
      "metadata": {
        "id": "GZt3zq6eiXSy"
      },
      "execution_count": null,
      "outputs": []
    },
    {
      "cell_type": "code",
      "source": [
        "data.columns"
      ],
      "metadata": {
        "colab": {
          "base_uri": "https://localhost:8080/"
        },
        "id": "LZTRmFqpUMYT",
        "outputId": "cc98a31d-a6e6-4377-b92a-8e19ebefe582"
      },
      "execution_count": 3,
      "outputs": [
        {
          "output_type": "execute_result",
          "data": {
            "text/plain": [
              "Index(['subject_id', 'hadm_id', 'stay_id', 'first_careunit', 'last_careunit',\n",
              "       'intime', 'outtime', 'los', 'race', 'language', 'admElective',\n",
              "       'insurance', 'age', 'gender', 'anchor_year_group', 'sepsis3',\n",
              "       'hadInsulinDayOne', 'hadMeasurmentDayOne', 'SOFA', 'respiration',\n",
              "       'coagulation', 'liver', 'cardiovascular', 'cns', 'renal',\n",
              "       'diabetes_without_cc', 'diabetes_with_cc', 'charlson_comorbidity_index',\n",
              "       'pneumonia', 'uti', 'biliary', 'skin', 'hypertension_present',\n",
              "       'heart_failure_present', 'copd_present', 'asthma_present',\n",
              "       'cad_present', 'ckd_stages', 'diabetes_types', 'connective_disease',\n",
              "       'dka_present', 'methylprednisolone_equivalent_total',\n",
              "       'methylprednisolone_equivalent_normalized_by_icu_los', 'hadSteroid',\n",
              "       'major_surgery', 'race_group', 'lactate_max', 'ph_min', 'po2_min',\n",
              "       'spo2_mean', 'resp_rate_mean', 'heart_rate_mean', 'temperature_mean',\n",
              "       'mbp_mean', 'total_insulin_amount', 'totalinsulin_perLOS', 'avg_weight',\n",
              "       'isMale', 'english_Proficent', 'diabetes'],\n",
              "      dtype='object')"
            ]
          },
          "metadata": {},
          "execution_count": 3
        }
      ]
    },
    {
      "cell_type": "code",
      "source": [
        "data['major_surgery'].unique()"
      ],
      "metadata": {
        "colab": {
          "base_uri": "https://localhost:8080/"
        },
        "id": "okfO1rTRp8M9",
        "outputId": "c894c366-5791-4cef-c4c9-6569de5f182e"
      },
      "execution_count": 4,
      "outputs": [
        {
          "output_type": "execute_result",
          "data": {
            "text/plain": [
              "array([0, 1])"
            ]
          },
          "metadata": {},
          "execution_count": 4
        }
      ]
    },
    {
      "cell_type": "code",
      "source": [
        "data['admElective'] = label_encoder.fit_transform(data['admElective'])\n",
        "data['hadMeasurmentDayOne'] = label_encoder.fit_transform(data['hadMeasurmentDayOne'])\n",
        "\n",
        "\n",
        "niceColumns=['isMale','english_Proficent','copd_present','diabetes','asthma_present','admElective','hadSteroid','major_surgery'] #, lab values (yes/no, if taken), 'hadSteroid','major_surgery'\n",
        "#niceColumns=[\"uti\", \"biliary\", \"skin\", 'hypertension_present','heart_failure_present','copd_present','cad_present','diabetes','isMale','ckd_stages','hadInsulinDayOne','english_Proficent']\n",
        "\n",
        "categorical_vars = ['insurance','anchor_year_group','race_group']\n",
        "dummy_vars = pd.get_dummies(data[categorical_vars])\n",
        "dummy_vars = dummy_vars.drop(columns=['race_group_White'])\n",
        "dummy_vars = dummy_vars.drop(columns=['anchor_year_group_2008 - 2010'])\n",
        "dummy_vars = dummy_vars.drop(columns=['insurance_Other'])\n",
        "\n",
        "\n",
        "data = pd.concat([data, dummy_vars], axis=1)\n",
        "\n",
        "\n",
        "continuous_vars = ['age','charlson_comorbidity_index','SOFA']\n",
        "#,'sofa','cardiovascular','cns','coagulation','liver','renal','respiration'\n",
        "independent = data[continuous_vars + list(dummy_vars.columns)+niceColumns]\n",
        "\n",
        "dependent = data['hadMeasurmentDayOne']"
      ],
      "metadata": {
        "id": "KSq84CwNnsW-"
      },
      "execution_count": 5,
      "outputs": []
    },
    {
      "cell_type": "code",
      "source": [
        "from sklearn.linear_model import LogisticRegression\n",
        "\n",
        "X_train, X_test, y_train, y_test = train_test_split(independent, dependent, test_size=0.25, random_state=16)\n",
        "\n",
        "log_reg = LogisticRegression()\n",
        "\n",
        "log_reg.fit(X_train, y_train)\n",
        "\n",
        "# Step 2: Get the logistic regression coefficients\n",
        "coefficients = log_reg.coef_[0]\n",
        "\n",
        "# Step 3: Calculate odds ratios by exponentiating the coefficients\n",
        "odds_ratios = np.exp(coefficients)\n"
      ],
      "metadata": {
        "colab": {
          "base_uri": "https://localhost:8080/"
        },
        "id": "M7GGWqRgqxLr",
        "outputId": "59d7b9a8-81a3-435c-fdbd-113ab28653a9"
      },
      "execution_count": 6,
      "outputs": [
        {
          "output_type": "stream",
          "name": "stderr",
          "text": [
            "/usr/local/lib/python3.10/dist-packages/sklearn/linear_model/_logistic.py:458: ConvergenceWarning: lbfgs failed to converge (status=1):\n",
            "STOP: TOTAL NO. of ITERATIONS REACHED LIMIT.\n",
            "\n",
            "Increase the number of iterations (max_iter) or scale the data as shown in:\n",
            "    https://scikit-learn.org/stable/modules/preprocessing.html\n",
            "Please also refer to the documentation for alternative solver options:\n",
            "    https://scikit-learn.org/stable/modules/linear_model.html#logistic-regression\n",
            "  n_iter_i = _check_optimize_result(\n"
          ]
        }
      ]
    },
    {
      "cell_type": "code",
      "source": [
        "import numpy as np\n",
        "from sklearn.datasets import make_classification\n",
        "from sklearn.linear_model import LogisticRegression\n",
        "from scipy.linalg import inv\n",
        "\n",
        "\n",
        "coef = log_reg.coef_[0]\n",
        "intercept = log_reg.intercept_[0]\n",
        "\n",
        "# Calculate the variance-covariance matrix\n",
        "# Use the Hessian formula for logistic regression: H = X.T * W * X\n",
        "# where W is a diagonal matrix of weights, calculated as w_i = p_i * (1 - p_i)\n",
        "pred_proba = log_reg.predict_proba(X_train)[:, 1]\n",
        "W = np.diag(pred_proba * (1 - pred_proba))\n",
        "X_design = np.hstack([np.ones((X_train.shape[0], 1)), X_train])  # add a column for the intercept\n",
        "Hessian = X_design.T.dot(W).dot(X_design)\n",
        "cov_matrix = inv(Hessian)\n",
        "\n",
        "# Extract the standard errors\n",
        "std_errors = np.sqrt(np.diag(cov_matrix))\n",
        "conf_intervals = [(coef - 1.96 * se, coef + 1.96 * se) for coef, se in zip(np.append(intercept, coef), std_errors)]"
      ],
      "metadata": {
        "id": "UZbD7QpUjDTS"
      },
      "execution_count": 16,
      "outputs": []
    },
    {
      "cell_type": "code",
      "source": [
        "from scipy.stats import norm\n",
        "\n",
        "coefs = log_reg.coef_[0]\n",
        "std_errors = np.sqrt(np.diag(np.linalg.inv(np.dot(X_train.T, X_train))))\n",
        "\n",
        "# Define desired confidence level (e.g., 95% confidence interval)\n",
        "confidence_level = 0.95\n",
        "\n",
        "# Calculate z-score for the critical value\n",
        "critical_value = norm.ppf((1 + confidence_level) / 2)\n",
        "\n",
        "# Calculate lower and upper bounds of the confidence interval\n",
        "lower_bounds =  np.exp(coefs - (critical_value * std_errors))\n",
        "upper_bounds = np.exp(coefs + (critical_value * std_errors))\n",
        "variable_names=independent.columns\n",
        "result=pd.DataFrame({'Variable': variable_names, 'Odds Ratio': odds_ratios,'low': lower_bounds, 'up':upper_bounds})\n",
        "\n",
        "interceptRow={'Variable':\"Intercept\",'Odds Ratio':intercept,'low':conf_intervals[0][0],'up':conf_intervals[0][1]}\n",
        "\n",
        "result.loc[-1] = interceptRow\n",
        "result.index = result.index + 1\n",
        "result = result.sort_index()\n",
        "print(result)"
      ],
      "metadata": {
        "colab": {
          "base_uri": "https://localhost:8080/"
        },
        "id": "DsAO6pa_u7IZ",
        "outputId": "f5cffb68-328d-42c6-f05a-3ea81f463341"
      },
      "execution_count": 30,
      "outputs": [
        {
          "output_type": "stream",
          "name": "stdout",
          "text": [
            "                         Variable  Odds Ratio       low        up\n",
            "0                       Intercept    1.517835  1.164275  1.871396\n",
            "1                             age    0.995118  0.994223  0.996015\n",
            "2      charlson_comorbidity_index    1.060984  1.054318  1.067692\n",
            "3                            SOFA    1.086313  1.081793  1.090852\n",
            "4              insurance_Medicaid    0.897569  0.846225  0.952027\n",
            "5              insurance_Medicare    1.013357  0.980745  1.047055\n",
            "6   anchor_year_group_2011 - 2013    0.954278  0.920052  0.989778\n",
            "7   anchor_year_group_2014 - 2016    1.034750  0.994879  1.076219\n",
            "8   anchor_year_group_2017 - 2019    0.896448  0.854141  0.940851\n",
            "9                race_group_Asian    0.926414  0.852144  1.007157\n",
            "10               race_group_Black    0.967586  0.924892  1.012251\n",
            "11            race_group_Hispanic    1.346248  1.250140  1.449744\n",
            "12                         isMale    0.997211  0.968887  1.026363\n",
            "13              english_Proficent    1.134801  1.085442  1.186405\n",
            "14                   copd_present    0.997747  0.945190  1.053227\n",
            "15                       diabetes    1.685410  1.607517  1.767078\n",
            "16                 asthma_present    1.046878  0.809015  1.354676\n",
            "17                    admElective    0.759697  0.705520  0.818035\n",
            "18                     hadSteroid    1.107969  1.048994  1.170261\n",
            "19                  major_surgery    1.942007  1.882473  2.003423\n"
          ]
        }
      ]
    },
    {
      "cell_type": "code",
      "source": [
        "data['hadMeasurmentDayOne'].describe()"
      ],
      "metadata": {
        "colab": {
          "base_uri": "https://localhost:8080/"
        },
        "id": "-6J8GI0TR9ov",
        "outputId": "ff04484e-0090-4ec0-cbd2-79577e349554"
      },
      "execution_count": 31,
      "outputs": [
        {
          "output_type": "execute_result",
          "data": {
            "text/plain": [
              "count    24927.000000\n",
              "mean         0.912866\n",
              "std          0.282038\n",
              "min          0.000000\n",
              "25%          1.000000\n",
              "50%          1.000000\n",
              "75%          1.000000\n",
              "max          1.000000\n",
              "Name: hadMeasurmentDayOne, dtype: float64"
            ]
          },
          "metadata": {},
          "execution_count": 31
        }
      ]
    },
    {
      "cell_type": "code",
      "source": [
        "result.head()\n",
        "result['Variable'] = result['Variable'].replace('insurance_Medicaid', 'Medicaid')\n",
        "result['Variable'] = result['Variable'].replace('insurance_Medicare', 'Medicare')\n",
        "result['Variable'] = result['Variable'].replace('charlson_comorbidity_index', 'Charlson comorbidity index')\n",
        "result['Variable'] = result['Variable'].replace('race_group_Asian', 'Asian')\n",
        "result['Variable'] = result['Variable'].replace('race_group_Black', 'Black')\n",
        "result['Variable'] = result['Variable'].replace('race_group_Hispanic', 'Hispanic')\n",
        "result['Variable'] = result['Variable'].replace('major_surgery', 'Major Surgery')\n",
        "result['Variable'] = result['Variable'].replace('anchor_year_group_2017 - 2019', '2017-2019')\n",
        "result['Variable'] = result['Variable'].replace('anchor_year_group_2014 - 2016', '2014-2016')\n",
        "result['Variable'] = result['Variable'].replace('anchor_year_group_2011 - 2013', '2011-2013')\n",
        "result['Variable'] = result['Variable'].replace('english_Proficent', 'English proficient')\n",
        "result['Variable'] = result['Variable'].replace('age', 'Age')\n",
        "result['Variable'] = result['Variable'].replace('hadSteroid', 'Had steroid')\n",
        "result['Variable'] = result['Variable'].replace('admElective', 'Elective admission')\n",
        "result['Variable'] = result['Variable'].replace('asthma_present', 'Asthma present')\n",
        "result['Variable'] = result['Variable'].replace('diabetes', 'Diabetes present')\n",
        "result['Variable'] = result['Variable'].replace('copd_present', 'COPD present')\n",
        "result['Variable'] = result['Variable'].replace('isMale', 'Sex Male')"
      ],
      "metadata": {
        "id": "lfFr65i5FXJS"
      },
      "execution_count": 45,
      "outputs": []
    },
    {
      "cell_type": "code",
      "source": [
        "from google.colab import files\n",
        "\n",
        "result.to_excel('logregSum.xlsx',index=False)\n",
        "files.download('logregSum.xlsx')\n"
      ],
      "metadata": {
        "colab": {
          "base_uri": "https://localhost:8080/",
          "height": 17
        },
        "id": "0evPqlqj4vkm",
        "outputId": "5e1d1603-d6c4-4bf5-8dd2-5d9b1ca15742"
      },
      "execution_count": null,
      "outputs": [
        {
          "output_type": "display_data",
          "data": {
            "text/plain": [
              "<IPython.core.display.Javascript object>"
            ],
            "application/javascript": [
              "\n",
              "    async function download(id, filename, size) {\n",
              "      if (!google.colab.kernel.accessAllowed) {\n",
              "        return;\n",
              "      }\n",
              "      const div = document.createElement('div');\n",
              "      const label = document.createElement('label');\n",
              "      label.textContent = `Downloading \"${filename}\": `;\n",
              "      div.appendChild(label);\n",
              "      const progress = document.createElement('progress');\n",
              "      progress.max = size;\n",
              "      div.appendChild(progress);\n",
              "      document.body.appendChild(div);\n",
              "\n",
              "      const buffers = [];\n",
              "      let downloaded = 0;\n",
              "\n",
              "      const channel = await google.colab.kernel.comms.open(id);\n",
              "      // Send a message to notify the kernel that we're ready.\n",
              "      channel.send({})\n",
              "\n",
              "      for await (const message of channel.messages) {\n",
              "        // Send a message to notify the kernel that we're ready.\n",
              "        channel.send({})\n",
              "        if (message.buffers) {\n",
              "          for (const buffer of message.buffers) {\n",
              "            buffers.push(buffer);\n",
              "            downloaded += buffer.byteLength;\n",
              "            progress.value = downloaded;\n",
              "          }\n",
              "        }\n",
              "      }\n",
              "      const blob = new Blob(buffers, {type: 'application/binary'});\n",
              "      const a = document.createElement('a');\n",
              "      a.href = window.URL.createObjectURL(blob);\n",
              "      a.download = filename;\n",
              "      div.appendChild(a);\n",
              "      a.click();\n",
              "      div.remove();\n",
              "    }\n",
              "  "
            ]
          },
          "metadata": {}
        },
        {
          "output_type": "display_data",
          "data": {
            "text/plain": [
              "<IPython.core.display.Javascript object>"
            ],
            "application/javascript": [
              "download(\"download_5c9e2001-2cfe-49ac-953f-af4fa282fd9b\", \"logregSum.xlsx\", 5970)"
            ]
          },
          "metadata": {}
        }
      ]
    },
    {
      "cell_type": "code",
      "source": [
        "import pandas as pd\n",
        "import matplotlib.pyplot as plt\n",
        "\n",
        "\n",
        "\n",
        "\n",
        "# Create the forest plot\n",
        "plt.figure(figsize=(10, len(result) * 0.3))  # Adjust the figure size based on the number of variables\n",
        "plt.errorbar(result['Odds Ratio'], result['Variable'], xerr=[result['Odds Ratio'] - result['low'], result['up'] - result['Odds Ratio']],\n",
        "             fmt='o', color='teal', capsize=5)\n",
        "plt.axvline(x=1.0, color='gray', linestyle='--')\n",
        "plt.xlabel('Odds Ratio')\n",
        "plt.ylabel('Variable')\n",
        "plt.title('Logistic Regression Odds Ratio Forest Plot')\n",
        "plt.grid(axis='x', linestyle='--', alpha=0.7)\n",
        "plt.tight_layout()\n",
        "plt.xlim(0.5, 2.25)\n",
        "\n",
        "plt.show()\n",
        "\n",
        "#asthma should be with COPD\n",
        "#steroid together with diabetes\n",
        "#dag"
      ],
      "metadata": {
        "colab": {
          "base_uri": "https://localhost:8080/",
          "height": 607
        },
        "id": "cTY1kxHvbGN4",
        "outputId": "71fad27e-220d-4481-9250-a02f8eb530af"
      },
      "execution_count": 44,
      "outputs": [
        {
          "output_type": "display_data",
          "data": {
            "text/plain": [
              "<Figure size 1000x600 with 1 Axes>"
            ],
            "image/png": "[encoded data removed]"
          },
          "metadata": {}
        }
      ]
    },
    {
      "cell_type": "code",
      "source": [
        "predicted_probs = log_reg.predict(X_test)\n",
        "# Convert predicted probabilities to binary predictions (0 or 1)\n",
        "predicted_values = (predicted_probs >= 0.5).astype(int)\n",
        "\n",
        "# Compare predicted values with actual values and calculate accuracy\n",
        "accuracy = (predicted_values == y_test).mean()\n",
        "print(accuracy)"
      ],
      "metadata": {
        "id": "g3WDj_UUS6tJ",
        "colab": {
          "base_uri": "https://localhost:8080/"
        },
        "outputId": "4c098563-1202-4dec-f0df-5f25d7d0f663"
      },
      "execution_count": null,
      "outputs": [
        {
          "output_type": "stream",
          "name": "stdout",
          "text": [
            "0.9162387676508345\n"
          ]
        }
      ]
    }
  ]
}
