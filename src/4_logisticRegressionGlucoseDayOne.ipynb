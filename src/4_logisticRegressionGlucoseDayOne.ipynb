{
  "cells": [
    {
      "cell_type": "markdown",
      "metadata": {
        "colab_type": "text",
        "id": "view-in-github"
      },
      "source": [
        "<a href=\"https://colab.research.google.com/github/e754/Glucose-Research/blob/main/logisticRegressionGlucoseDayOne.ipynb\" target=\"_parent\"><img src=\"https://colab.research.google.com/assets/colab-badge.svg\" alt=\"Open In Colab\"/></a>"
      ]
    },
    {
      "cell_type": "code",
      "execution_count": 1,
      "metadata": {
        "id": "nIb9_6pTXpL0"
      },
      "outputs": [],
      "source": [
        "from sklearn.model_selection import train_test_split\n",
        "from sklearn.linear_model import LogisticRegression\n",
        "from sklearn.model_selection import train_test_split\n",
        "from sklearn.metrics import accuracy_score\n",
        "from sklearn.metrics import classification_report\n",
        "from sklearn.utils import resample \n",
        "from imblearn.over_sampling import SMOTE\n",
        "import numpy as np"
      ]
    },
    {
      "cell_type": "code",
      "execution_count": 2,
      "metadata": {
        "colab": {
          "base_uri": "https://localhost:8080/"
        },
        "id": "nrdiy7QrGQb9",
        "outputId": "8c7381ee-54e3-497e-8fd4-7d350693ca15"
      },
      "outputs": [
        {
          "name": "stdout",
          "output_type": "stream",
          "text": [
            "/Users/yugang/Documents/GitHub/Glucose-Research/data/cohortedData.csv\n"
          ]
        }
      ],
      "source": [
        "from sklearn.preprocessing import LabelEncoder\n",
        "import pandas as pd\n",
        "import os\n",
        "current_path = os.path.abspath('.')\n",
        "label_encoder = LabelEncoder()\n",
        "fi=os.path.abspath('../../data/cohortedData.csv')\n",
        "print(fi)\n",
        "data = pd.read_csv(fi)\n"
      ]
    },
    {
      "cell_type": "code",
      "execution_count": 3,
      "metadata": {
        "colab": {
          "base_uri": "https://localhost:8080/"
        },
        "id": "Pqrskqky4FT4",
        "outputId": "fcf8b4da-1f54-4060-e045-140228a7ec24"
      },
      "outputs": [
        {
          "data": {
            "text/plain": [
              "array(['BLACK/AFRICAN AMERICAN', 'WHITE', 'BLACK/CAPE VERDEAN',\n",
              "       'ASIAN - SOUTH EAST ASIAN', 'WHITE - BRAZILIAN',\n",
              "       'HISPANIC OR LATINO', 'WHITE - OTHER EUROPEAN', 'BLACK/AFRICAN',\n",
              "       'BLACK/CARIBBEAN ISLAND', 'ASIAN',\n",
              "       'HISPANIC/LATINO - PUERTO RICAN', 'WHITE - RUSSIAN',\n",
              "       'ASIAN - CHINESE', 'WHITE - EASTERN EUROPEAN',\n",
              "       'HISPANIC/LATINO - DOMINICAN', 'ASIAN - ASIAN INDIAN',\n",
              "       'HISPANIC/LATINO - HONDURAN', 'HISPANIC/LATINO - COLUMBIAN',\n",
              "       'HISPANIC/LATINO - CENTRAL AMERICAN',\n",
              "       'HISPANIC/LATINO - GUATEMALAN', 'HISPANIC/LATINO - MEXICAN',\n",
              "       'ASIAN - KOREAN', 'HISPANIC/LATINO - CUBAN',\n",
              "       'HISPANIC/LATINO - SALVADORAN'], dtype=object)"
            ]
          },
          "execution_count": 3,
          "metadata": {},
          "output_type": "execute_result"
        }
      ],
      "source": [
        "data['race'].unique()"
      ]
    },
    {
      "cell_type": "code",
      "execution_count": 4,
      "metadata": {
        "colab": {
          "base_uri": "https://localhost:8080/"
        },
        "id": "zTBINsqKePNt",
        "outputId": "665282ca-c17c-4481-cf53-5af1b9100128"
      },
      "outputs": [
        {
          "name": "stdout",
          "output_type": "stream",
          "text": [
            "<class 'pandas.core.frame.DataFrame'>\n",
            "RangeIndex: 24927 entries, 0 to 24926\n",
            "Data columns (total 51 columns):\n",
            " #   Column                      Non-Null Count  Dtype  \n",
            "---  ------                      --------------  -----  \n",
            " 0   subject_id                  24927 non-null  int64  \n",
            " 1   hadm_id                     24927 non-null  int64  \n",
            " 2   stay_id                     24927 non-null  int64  \n",
            " 3   first_careunit              24927 non-null  object \n",
            " 4   last_careunit               24927 non-null  object \n",
            " 5   intime                      24927 non-null  object \n",
            " 6   outtime                     24927 non-null  object \n",
            " 7   los                         24927 non-null  float64\n",
            " 8   race                        24927 non-null  object \n",
            " 9   language                    24927 non-null  object \n",
            " 10  admElective                 24927 non-null  bool   \n",
            " 11  age                         24927 non-null  int64  \n",
            " 12  gender                      24927 non-null  object \n",
            " 13  anchor_year_group           24927 non-null  object \n",
            " 14  sepsis3                     24927 non-null  bool   \n",
            " 15  hadInsulinDayOne            14371 non-null  object \n",
            " 16  hadMeasurmentDayOne         24899 non-null  object \n",
            " 17  SOFA                        24927 non-null  int64  \n",
            " 18  respiration                 14354 non-null  float64\n",
            " 19  coagulation                 24861 non-null  float64\n",
            " 20  liver                       14880 non-null  float64\n",
            " 21  cardiovascular              24903 non-null  float64\n",
            " 22  cns                         24895 non-null  float64\n",
            " 23  renal                       24925 non-null  float64\n",
            " 24  diabetes_without_cc         24927 non-null  int64  \n",
            " 25  diabetes_with_cc            24927 non-null  int64  \n",
            " 26  charlson_comorbidity_index  24927 non-null  int64  \n",
            " 27  pneumonia                   1118 non-null   float64\n",
            " 28  uti                         164 non-null    float64\n",
            " 29  biliary                     68 non-null     float64\n",
            " 30  skin                        41 non-null     float64\n",
            " 31  hypertension_present        6160 non-null   float64\n",
            " 32  heart_failure_present       3664 non-null   float64\n",
            " 33  copd_present                2327 non-null   float64\n",
            " 34  asthma_present              78 non-null     float64\n",
            " 35  cad_present                 3561 non-null   float64\n",
            " 36  ckd_stages                  1631 non-null   float64\n",
            " 37  diabetes_types              3141 non-null   float64\n",
            " 38  connective_disease          431 non-null    float64\n",
            " 39  race_group                  24927 non-null  object \n",
            " 40  lactate_max                 17906 non-null  float64\n",
            " 41  ph_min                      24927 non-null  float64\n",
            " 42  po2_min                     24927 non-null  float64\n",
            " 43  spo2_mean                   24896 non-null  float64\n",
            " 44  resp_rate_mean              24927 non-null  float64\n",
            " 45  heart_rate_mean             24927 non-null  float64\n",
            " 46  temperature_mean            24927 non-null  float64\n",
            " 47  mbp_mean                    24927 non-null  float64\n",
            " 48  total_insulin_amount        14371 non-null  float64\n",
            " 49  totalinsulin_perLOS         14371 non-null  float64\n",
            " 50  avg_weight                  14371 non-null  float64\n",
            "dtypes: bool(2), float64(30), int64(8), object(11)\n",
            "memory usage: 9.4+ MB\n"
          ]
        }
      ],
      "source": [
        "data.info()"
      ]
    },
    {
      "cell_type": "code",
      "execution_count": 5,
      "metadata": {},
      "outputs": [],
      "source": [
        "categorical_vars = ['anchor_year_group', 'race_group','diabetes_types']\n",
        "dummy_vars = pd.get_dummies(data[categorical_vars])"
      ]
    },
    {
      "cell_type": "code",
      "execution_count": 6,
      "metadata": {
        "id": "KSq84CwNnsW-"
      },
      "outputs": [],
      "source": [
        "data.fillna(0, inplace=True)\n",
        "data['diabetes_types'] = data['diabetes_types'].replace(0, 'none')\n",
        "data['diabetes_types'] = data['diabetes_types'].replace(1.0, 'one')\n",
        "data['diabetes_types'] = data['diabetes_types'].replace(2.0, 'two')\n",
        "data['race_group'] = data['race_group'].replace('OTHER', 'Other')\n",
        "\n",
        "data['admElective'] = label_encoder.fit_transform(data['admElective'])\n",
        "data['hadInsulinDayOne'] = label_encoder.fit_transform(data['hadInsulinDayOne'])\n",
        "data['hadMeasurmentDayOne'] = label_encoder.fit_transform(data['hadMeasurmentDayOne'])\n",
        "niceColumns=[\"uti\", \"biliary\", \"skin\",'SOFA', 'hypertension_present','heart_failure_present','copd_present','cad_present']\n",
        "\n",
        "categorical_vars = ['anchor_year_group', 'race_group','diabetes_types']\n",
        "dummy_vars = pd.get_dummies(data[categorical_vars])\n",
        "dummy_vars = dummy_vars.drop(columns=['race_group_White'])\n",
        "dummy_vars = dummy_vars.drop(columns=['anchor_year_group_2008 - 2010'])\n",
        "dummy_vars = dummy_vars.drop(columns=['diabetes_types_none'])\n",
        "\n",
        "data = pd.concat([data, dummy_vars], axis=1)\n",
        "\n",
        "\n",
        "continuous_vars = ['ckd_stages','age','charlson_comorbidity_index','diabetes_with_cc','diabetes_without_cc']\n",
        "#,'sofa','cardiovascular','cns','coagulation','liver','renal','respiration'\n",
        "independent = data[continuous_vars + list(dummy_vars.columns)+niceColumns]\n",
        "dependent = data['hadMeasurmentDayOne']"
      ]
    },
    {
      "cell_type": "code",
      "execution_count": null,
      "metadata": {
        "id": "OFSPkxMv-xKp"
      },
      "outputs": [],
      "source": []
    },
    {
      "cell_type": "code",
      "execution_count": 7,
      "metadata": {
        "id": "2ExE_Hs_Xfcm"
      },
      "outputs": [
        {
          "name": "stdout",
          "output_type": "stream",
          "text": [
            "Requirement already satisfied: matplotlib in /Library/Frameworks/Python.framework/Versions/3.10/lib/python3.10/site-packages (3.7.2)\n",
            "Requirement already satisfied: contourpy>=1.0.1 in /Library/Frameworks/Python.framework/Versions/3.10/lib/python3.10/site-packages (from matplotlib) (1.1.0)\n",
            "Requirement already satisfied: cycler>=0.10 in /Library/Frameworks/Python.framework/Versions/3.10/lib/python3.10/site-packages (from matplotlib) (0.11.0)\n",
            "Requirement already satisfied: fonttools>=4.22.0 in /Library/Frameworks/Python.framework/Versions/3.10/lib/python3.10/site-packages (from matplotlib) (4.41.1)\n",
            "Requirement already satisfied: kiwisolver>=1.0.1 in /Library/Frameworks/Python.framework/Versions/3.10/lib/python3.10/site-packages (from matplotlib) (1.4.4)\n",
            "Requirement already satisfied: numpy>=1.20 in /Library/Frameworks/Python.framework/Versions/3.10/lib/python3.10/site-packages (from matplotlib) (1.23.1)\n",
            "Requirement already satisfied: packaging>=20.0 in /Library/Frameworks/Python.framework/Versions/3.10/lib/python3.10/site-packages (from matplotlib) (23.1)\n",
            "Requirement already satisfied: pillow>=6.2.0 in /Library/Frameworks/Python.framework/Versions/3.10/lib/python3.10/site-packages (from matplotlib) (10.0.0)\n",
            "Requirement already satisfied: pyparsing<3.1,>=2.3.1 in /Library/Frameworks/Python.framework/Versions/3.10/lib/python3.10/site-packages (from matplotlib) (3.0.9)\n",
            "Requirement already satisfied: python-dateutil>=2.7 in /Library/Frameworks/Python.framework/Versions/3.10/lib/python3.10/site-packages (from matplotlib) (2.8.2)\n",
            "Requirement already satisfied: six>=1.5 in /Library/Frameworks/Python.framework/Versions/3.10/lib/python3.10/site-packages (from python-dateutil>=2.7->matplotlib) (1.16.0)\n"
          ]
        }
      ],
      "source": [
        "!pip install matplotlib\n",
        "from sklearn.metrics import roc_curve\n",
        "import matplotlib.pyplot as plt\n",
        "def test_model(X_test, y_test, model):\n",
        "\n",
        "    y_pred = model.predict(X_test)\n",
        "    print(classification_report(y_true=y_test, y_pred=y_pred))\n",
        "    fpr, tpr, _ = roc_curve(y_test,  y_pred)\n",
        "\n",
        "    #create ROC curve\n",
        "    plt.plot(fpr,tpr)\n",
        "    plt.title('ROC Curve')\n",
        "    plt.ylabel('True Positive Rate')\n",
        "    plt.xlabel('False Positive Rate')\n",
        "    plt.show()"
      ]
    },
    {
      "cell_type": "code",
      "execution_count": 9,
      "metadata": {
        "colab": {
          "base_uri": "https://localhost:8080/"
        },
        "id": "tGEVk1fahdr8",
        "outputId": "dd46a6ae-55e0-406a-8e39-9ce009cf5bed"
      },
      "outputs": [
        {
          "ename": "ValueError",
          "evalue": "Pandas data cast to numpy dtype of object. Check input data with np.asarray(data).",
          "output_type": "error",
          "traceback": [
            "\u001b[0;31m---------------------------------------------------------------------------\u001b[0m",
            "\u001b[0;31mValueError\u001b[0m                                Traceback (most recent call last)",
            "Cell \u001b[0;32mIn[9], line 28\u001b[0m\n\u001b[1;32m     25\u001b[0m x_train_final \u001b[39m=\u001b[39m pd\u001b[39m.\u001b[39mconcat([oversampled_minority_x, majority_x])\n\u001b[1;32m     26\u001b[0m y_train_final \u001b[39m=\u001b[39m pd\u001b[39m.\u001b[39mconcat([oversampled_minority_y, majority_y])\n\u001b[0;32m---> 28\u001b[0m logit_model \u001b[39m=\u001b[39m sm\u001b[39m.\u001b[39;49mLogit(y_train_final, x_train_final)\n\u001b[1;32m     29\u001b[0m logit_model\u001b[39m.\u001b[39mfit_regularized(start_params\u001b[39m=\u001b[39m\u001b[39mNone\u001b[39;00m,method \u001b[39m=\u001b[39m \u001b[39m'\u001b[39m\u001b[39ml1\u001b[39m\u001b[39m'\u001b[39m,alpha \u001b[39m=\u001b[39m \u001b[39m0\u001b[39m)\n\u001b[1;32m     30\u001b[0m result \u001b[39m=\u001b[39m logit_model\u001b[39m.\u001b[39mfit()\n",
            "File \u001b[0;32m/Library/Frameworks/Python.framework/Versions/3.10/lib/python3.10/site-packages/statsmodels/discrete/discrete_model.py:475\u001b[0m, in \u001b[0;36mBinaryModel.__init__\u001b[0;34m(self, endog, exog, offset, check_rank, **kwargs)\u001b[0m\n\u001b[1;32m    472\u001b[0m \u001b[39mdef\u001b[39;00m \u001b[39m__init__\u001b[39m(\u001b[39mself\u001b[39m, endog, exog, offset\u001b[39m=\u001b[39m\u001b[39mNone\u001b[39;00m, check_rank\u001b[39m=\u001b[39m\u001b[39mTrue\u001b[39;00m, \u001b[39m*\u001b[39m\u001b[39m*\u001b[39mkwargs):\n\u001b[1;32m    473\u001b[0m     \u001b[39m# unconditional check, requires no extra kwargs added by subclasses\u001b[39;00m\n\u001b[1;32m    474\u001b[0m     \u001b[39mself\u001b[39m\u001b[39m.\u001b[39m_check_kwargs(kwargs)\n\u001b[0;32m--> 475\u001b[0m     \u001b[39msuper\u001b[39;49m()\u001b[39m.\u001b[39;49m\u001b[39m__init__\u001b[39;49m(endog, exog, offset\u001b[39m=\u001b[39;49moffset, check_rank\u001b[39m=\u001b[39;49mcheck_rank,\n\u001b[1;32m    476\u001b[0m                      \u001b[39m*\u001b[39;49m\u001b[39m*\u001b[39;49mkwargs)\n\u001b[1;32m    477\u001b[0m     \u001b[39mif\u001b[39;00m \u001b[39mnot\u001b[39;00m \u001b[39missubclass\u001b[39m(\u001b[39mself\u001b[39m\u001b[39m.\u001b[39m\u001b[39m__class__\u001b[39m, MultinomialModel):\n\u001b[1;32m    478\u001b[0m         \u001b[39mif\u001b[39;00m \u001b[39mnot\u001b[39;00m np\u001b[39m.\u001b[39mall((\u001b[39mself\u001b[39m\u001b[39m.\u001b[39mendog \u001b[39m>\u001b[39m\u001b[39m=\u001b[39m \u001b[39m0\u001b[39m) \u001b[39m&\u001b[39m (\u001b[39mself\u001b[39m\u001b[39m.\u001b[39mendog \u001b[39m<\u001b[39m\u001b[39m=\u001b[39m \u001b[39m1\u001b[39m)):\n",
            "File \u001b[0;32m/Library/Frameworks/Python.framework/Versions/3.10/lib/python3.10/site-packages/statsmodels/discrete/discrete_model.py:185\u001b[0m, in \u001b[0;36mDiscreteModel.__init__\u001b[0;34m(self, endog, exog, check_rank, **kwargs)\u001b[0m\n\u001b[1;32m    183\u001b[0m \u001b[39mdef\u001b[39;00m \u001b[39m__init__\u001b[39m(\u001b[39mself\u001b[39m, endog, exog, check_rank\u001b[39m=\u001b[39m\u001b[39mTrue\u001b[39;00m, \u001b[39m*\u001b[39m\u001b[39m*\u001b[39mkwargs):\n\u001b[1;32m    184\u001b[0m     \u001b[39mself\u001b[39m\u001b[39m.\u001b[39m_check_rank \u001b[39m=\u001b[39m check_rank\n\u001b[0;32m--> 185\u001b[0m     \u001b[39msuper\u001b[39;49m()\u001b[39m.\u001b[39;49m\u001b[39m__init__\u001b[39;49m(endog, exog, \u001b[39m*\u001b[39;49m\u001b[39m*\u001b[39;49mkwargs)\n\u001b[1;32m    186\u001b[0m     \u001b[39mself\u001b[39m\u001b[39m.\u001b[39mraise_on_perfect_prediction \u001b[39m=\u001b[39m \u001b[39mFalse\u001b[39;00m  \u001b[39m# keep for backwards compat\u001b[39;00m\n\u001b[1;32m    187\u001b[0m     \u001b[39mself\u001b[39m\u001b[39m.\u001b[39mk_extra \u001b[39m=\u001b[39m \u001b[39m0\u001b[39m\n",
            "File \u001b[0;32m/Library/Frameworks/Python.framework/Versions/3.10/lib/python3.10/site-packages/statsmodels/base/model.py:270\u001b[0m, in \u001b[0;36mLikelihoodModel.__init__\u001b[0;34m(self, endog, exog, **kwargs)\u001b[0m\n\u001b[1;32m    269\u001b[0m \u001b[39mdef\u001b[39;00m \u001b[39m__init__\u001b[39m(\u001b[39mself\u001b[39m, endog, exog\u001b[39m=\u001b[39m\u001b[39mNone\u001b[39;00m, \u001b[39m*\u001b[39m\u001b[39m*\u001b[39mkwargs):\n\u001b[0;32m--> 270\u001b[0m     \u001b[39msuper\u001b[39;49m()\u001b[39m.\u001b[39;49m\u001b[39m__init__\u001b[39;49m(endog, exog, \u001b[39m*\u001b[39;49m\u001b[39m*\u001b[39;49mkwargs)\n\u001b[1;32m    271\u001b[0m     \u001b[39mself\u001b[39m\u001b[39m.\u001b[39minitialize()\n",
            "File \u001b[0;32m/Library/Frameworks/Python.framework/Versions/3.10/lib/python3.10/site-packages/statsmodels/base/model.py:95\u001b[0m, in \u001b[0;36mModel.__init__\u001b[0;34m(self, endog, exog, **kwargs)\u001b[0m\n\u001b[1;32m     93\u001b[0m missing \u001b[39m=\u001b[39m kwargs\u001b[39m.\u001b[39mpop(\u001b[39m'\u001b[39m\u001b[39mmissing\u001b[39m\u001b[39m'\u001b[39m, \u001b[39m'\u001b[39m\u001b[39mnone\u001b[39m\u001b[39m'\u001b[39m)\n\u001b[1;32m     94\u001b[0m hasconst \u001b[39m=\u001b[39m kwargs\u001b[39m.\u001b[39mpop(\u001b[39m'\u001b[39m\u001b[39mhasconst\u001b[39m\u001b[39m'\u001b[39m, \u001b[39mNone\u001b[39;00m)\n\u001b[0;32m---> 95\u001b[0m \u001b[39mself\u001b[39m\u001b[39m.\u001b[39mdata \u001b[39m=\u001b[39m \u001b[39mself\u001b[39;49m\u001b[39m.\u001b[39;49m_handle_data(endog, exog, missing, hasconst,\n\u001b[1;32m     96\u001b[0m                               \u001b[39m*\u001b[39;49m\u001b[39m*\u001b[39;49mkwargs)\n\u001b[1;32m     97\u001b[0m \u001b[39mself\u001b[39m\u001b[39m.\u001b[39mk_constant \u001b[39m=\u001b[39m \u001b[39mself\u001b[39m\u001b[39m.\u001b[39mdata\u001b[39m.\u001b[39mk_constant\n\u001b[1;32m     98\u001b[0m \u001b[39mself\u001b[39m\u001b[39m.\u001b[39mexog \u001b[39m=\u001b[39m \u001b[39mself\u001b[39m\u001b[39m.\u001b[39mdata\u001b[39m.\u001b[39mexog\n",
            "File \u001b[0;32m/Library/Frameworks/Python.framework/Versions/3.10/lib/python3.10/site-packages/statsmodels/base/model.py:135\u001b[0m, in \u001b[0;36mModel._handle_data\u001b[0;34m(self, endog, exog, missing, hasconst, **kwargs)\u001b[0m\n\u001b[1;32m    134\u001b[0m \u001b[39mdef\u001b[39;00m \u001b[39m_handle_data\u001b[39m(\u001b[39mself\u001b[39m, endog, exog, missing, hasconst, \u001b[39m*\u001b[39m\u001b[39m*\u001b[39mkwargs):\n\u001b[0;32m--> 135\u001b[0m     data \u001b[39m=\u001b[39m handle_data(endog, exog, missing, hasconst, \u001b[39m*\u001b[39;49m\u001b[39m*\u001b[39;49mkwargs)\n\u001b[1;32m    136\u001b[0m     \u001b[39m# kwargs arrays could have changed, easier to just attach here\u001b[39;00m\n\u001b[1;32m    137\u001b[0m     \u001b[39mfor\u001b[39;00m key \u001b[39min\u001b[39;00m kwargs:\n",
            "File \u001b[0;32m/Library/Frameworks/Python.framework/Versions/3.10/lib/python3.10/site-packages/statsmodels/base/data.py:675\u001b[0m, in \u001b[0;36mhandle_data\u001b[0;34m(endog, exog, missing, hasconst, **kwargs)\u001b[0m\n\u001b[1;32m    672\u001b[0m     exog \u001b[39m=\u001b[39m np\u001b[39m.\u001b[39masarray(exog)\n\u001b[1;32m    674\u001b[0m klass \u001b[39m=\u001b[39m handle_data_class_factory(endog, exog)\n\u001b[0;32m--> 675\u001b[0m \u001b[39mreturn\u001b[39;00m klass(endog, exog\u001b[39m=\u001b[39;49mexog, missing\u001b[39m=\u001b[39;49mmissing, hasconst\u001b[39m=\u001b[39;49mhasconst,\n\u001b[1;32m    676\u001b[0m              \u001b[39m*\u001b[39;49m\u001b[39m*\u001b[39;49mkwargs)\n",
            "File \u001b[0;32m/Library/Frameworks/Python.framework/Versions/3.10/lib/python3.10/site-packages/statsmodels/base/data.py:84\u001b[0m, in \u001b[0;36mModelData.__init__\u001b[0;34m(self, endog, exog, missing, hasconst, **kwargs)\u001b[0m\n\u001b[1;32m     82\u001b[0m     \u001b[39mself\u001b[39m\u001b[39m.\u001b[39morig_endog \u001b[39m=\u001b[39m endog\n\u001b[1;32m     83\u001b[0m     \u001b[39mself\u001b[39m\u001b[39m.\u001b[39morig_exog \u001b[39m=\u001b[39m exog\n\u001b[0;32m---> 84\u001b[0m     \u001b[39mself\u001b[39m\u001b[39m.\u001b[39mendog, \u001b[39mself\u001b[39m\u001b[39m.\u001b[39mexog \u001b[39m=\u001b[39m \u001b[39mself\u001b[39;49m\u001b[39m.\u001b[39;49m_convert_endog_exog(endog, exog)\n\u001b[1;32m     86\u001b[0m \u001b[39mself\u001b[39m\u001b[39m.\u001b[39mconst_idx \u001b[39m=\u001b[39m \u001b[39mNone\u001b[39;00m\n\u001b[1;32m     87\u001b[0m \u001b[39mself\u001b[39m\u001b[39m.\u001b[39mk_constant \u001b[39m=\u001b[39m \u001b[39m0\u001b[39m\n",
            "File \u001b[0;32m/Library/Frameworks/Python.framework/Versions/3.10/lib/python3.10/site-packages/statsmodels/base/data.py:509\u001b[0m, in \u001b[0;36mPandasData._convert_endog_exog\u001b[0;34m(self, endog, exog)\u001b[0m\n\u001b[1;32m    507\u001b[0m exog \u001b[39m=\u001b[39m exog \u001b[39mif\u001b[39;00m exog \u001b[39mis\u001b[39;00m \u001b[39mNone\u001b[39;00m \u001b[39melse\u001b[39;00m np\u001b[39m.\u001b[39masarray(exog)\n\u001b[1;32m    508\u001b[0m \u001b[39mif\u001b[39;00m endog\u001b[39m.\u001b[39mdtype \u001b[39m==\u001b[39m \u001b[39mobject\u001b[39m \u001b[39mor\u001b[39;00m exog \u001b[39mis\u001b[39;00m \u001b[39mnot\u001b[39;00m \u001b[39mNone\u001b[39;00m \u001b[39mand\u001b[39;00m exog\u001b[39m.\u001b[39mdtype \u001b[39m==\u001b[39m \u001b[39mobject\u001b[39m:\n\u001b[0;32m--> 509\u001b[0m     \u001b[39mraise\u001b[39;00m \u001b[39mValueError\u001b[39;00m(\u001b[39m\"\u001b[39m\u001b[39mPandas data cast to numpy dtype of object. \u001b[39m\u001b[39m\"\u001b[39m\n\u001b[1;32m    510\u001b[0m                      \u001b[39m\"\u001b[39m\u001b[39mCheck input data with np.asarray(data).\u001b[39m\u001b[39m\"\u001b[39m)\n\u001b[1;32m    511\u001b[0m \u001b[39mreturn\u001b[39;00m \u001b[39msuper\u001b[39m(PandasData, \u001b[39mself\u001b[39m)\u001b[39m.\u001b[39m_convert_endog_exog(endog, exog)\n",
            "\u001b[0;31mValueError\u001b[0m: Pandas data cast to numpy dtype of object. Check input data with np.asarray(data)."
          ]
        }
      ],
      "source": [
        "#all patients\n",
        "import statsmodels.api as sm\n",
        "\n",
        "\n",
        "\n",
        "X_train, X_test, y_train, y_test = train_test_split(independent, dependent, test_size=0.25, random_state=16)\n",
        "\n",
        "\n",
        "\n",
        "minority_x = X_train[y_train==0]\n",
        "minority_y = y_train[y_train==0]\n",
        "majority_x = X_train[y_train==1]\n",
        "majority_y = y_train[y_train==1]\n",
        "\n",
        "# Perform oversampling on the minority class\n",
        "minority_size = len(minority_x)\n",
        "majority_size = len(majority_x)\n",
        "\n",
        "oversampled_minority_x, oversampled_minority_y = resample(\n",
        "minority_x, minority_y, replace=True, n_samples=len(majority_x)\n",
        ")\n",
        "\n",
        "\n",
        "# Combine oversampled minority and majority\n",
        "x_train_final = pd.concat([oversampled_minority_x, majority_x])\n",
        "y_train_final = pd.concat([oversampled_minority_y, majority_y])\n",
        "\n",
        "logit_model = sm.Logit(y_train_final, x_train_final)\n",
        "logit_model.fit_regularized(start_params=None,method = 'l1',alpha = 0)\n",
        "result = logit_model.fit()\n",
        "odds_ratio = np.exp(result.params)\n",
        "ci = np.exp(result.conf_int())\n",
        "\n",
        "# Create a DataFrame to display the results\n",
        "results_df = pd.DataFrame({'Odds Ratio': odds_ratio, 'Lower CI': ci[0], 'Upper CI': ci[1]})\n",
        "print(results_df)\n",
        "# Find the odds ratio and its confidence interval\n"
      ]
    },
    {
      "cell_type": "code",
      "execution_count": null,
      "metadata": {
        "colab": {
          "base_uri": "https://localhost:8080/"
        },
        "id": "oQADn1lNihSQ",
        "outputId": "ab3acccf-9916-45c1-acf1-11d909882c5c"
      },
      "outputs": [
        {
          "data": {
            "text/plain": [
              "754      0\n",
              "16149    1\n",
              "21886    1\n",
              "26850    1\n",
              "14257    1\n",
              "        ..\n",
              "17126    1\n",
              "4481     1\n",
              "7816     1\n",
              "25651    1\n",
              "28863    1\n",
              "Name: hadMeasurmentDayOne, Length: 7402, dtype: int64"
            ]
          },
          "execution_count": 8,
          "metadata": {},
          "output_type": "execute_result"
        }
      ],
      "source": [
        "y_test"
      ]
    },
    {
      "cell_type": "code",
      "execution_count": null,
      "metadata": {
        "id": "_t4jATjve6Kf"
      },
      "outputs": [],
      "source": [
        "predicted_probs = result.predict(X_test)\n",
        "\n",
        "# Convert predicted probabilities to binary predictions (0 or 1)\n",
        "predicted_values = (predicted_probs >= 0.5).astype(int)\n",
        "\n",
        "# Compare predicted values with actual values and calculate accuracy\n",
        "accuracy = (predicted_values == y_test).mean()\n"
      ]
    },
    {
      "cell_type": "code",
      "execution_count": null,
      "metadata": {
        "colab": {
          "base_uri": "https://localhost:8080/"
        },
        "id": "-5EtFhI_iV77",
        "outputId": "8747cc23-4b79-4401-85ed-1dd0e6db4356"
      },
      "outputs": [
        {
          "data": {
            "text/plain": [
              "0.5210753850310726"
            ]
          },
          "execution_count": 10,
          "metadata": {},
          "output_type": "execute_result"
        }
      ],
      "source": [
        "accuracy"
      ]
    },
    {
      "cell_type": "code",
      "execution_count": null,
      "metadata": {
        "colab": {
          "base_uri": "https://localhost:8080/",
          "height": 675
        },
        "id": "rb5xjM-PA_l-",
        "outputId": "69e2584f-5ec8-4abe-97c9-a2bf7f141534"
      },
      "outputs": [
        {
          "data": {
            "text/html": [
              "<table class=\"simpletable\">\n",
              "<caption>Logit Regression Results</caption>\n",
              "<tr>\n",
              "  <th>Dep. Variable:</th>   <td>hadMeasurmentDayOne</td> <th>  No. Observations:  </th>  <td> 40698</td> \n",
              "</tr>\n",
              "<tr>\n",
              "  <th>Model:</th>                  <td>Logit</td>        <th>  Df Residuals:      </th>  <td> 40676</td> \n",
              "</tr>\n",
              "<tr>\n",
              "  <th>Method:</th>                  <td>MLE</td>         <th>  Df Model:          </th>  <td>    21</td> \n",
              "</tr>\n",
              "<tr>\n",
              "  <th>Date:</th>             <td>Fri, 07 Jul 2023</td>   <th>  Pseudo R-squ.:     </th>  <td>0.03008</td>\n",
              "</tr>\n",
              "<tr>\n",
              "  <th>Time:</th>                 <td>22:58:47</td>       <th>  Log-Likelihood:    </th> <td> -27361.</td>\n",
              "</tr>\n",
              "<tr>\n",
              "  <th>converged:</th>              <td>True</td>         <th>  LL-Null:           </th> <td> -28210.</td>\n",
              "</tr>\n",
              "<tr>\n",
              "  <th>Covariance Type:</th>      <td>nonrobust</td>      <th>  LLR p-value:       </th>  <td> 0.000</td> \n",
              "</tr>\n",
              "</table>\n",
              "<table class=\"simpletable\">\n",
              "<tr>\n",
              "                <td></td>                   <th>coef</th>     <th>std err</th>      <th>z</th>      <th>P>|z|</th>  <th>[0.025</th>    <th>0.975]</th>  \n",
              "</tr>\n",
              "<tr>\n",
              "  <th>ckd_stages</th>                    <td>   -0.0016</td> <td>    0.013</td> <td>   -0.118</td> <td> 0.906</td> <td>   -0.027</td> <td>    0.024</td>\n",
              "</tr>\n",
              "<tr>\n",
              "  <th>age</th>                           <td>   -0.0068</td> <td>    0.001</td> <td>  -12.130</td> <td> 0.000</td> <td>   -0.008</td> <td>   -0.006</td>\n",
              "</tr>\n",
              "<tr>\n",
              "  <th>charlson_comorbidity_index</th>    <td>    0.0217</td> <td>    0.005</td> <td>    4.704</td> <td> 0.000</td> <td>    0.013</td> <td>    0.031</td>\n",
              "</tr>\n",
              "<tr>\n",
              "  <th>diabetes_with_cc</th>              <td>    0.1503</td> <td>    0.042</td> <td>    3.595</td> <td> 0.000</td> <td>    0.068</td> <td>    0.232</td>\n",
              "</tr>\n",
              "<tr>\n",
              "  <th>diabetes_without_cc</th>           <td>    0.5762</td> <td>    0.029</td> <td>   19.977</td> <td> 0.000</td> <td>    0.520</td> <td>    0.633</td>\n",
              "</tr>\n",
              "<tr>\n",
              "  <th>anchor_year_group_2011 - 2013</th> <td>   -0.0301</td> <td>    0.025</td> <td>   -1.190</td> <td> 0.234</td> <td>   -0.080</td> <td>    0.020</td>\n",
              "</tr>\n",
              "<tr>\n",
              "  <th>anchor_year_group_2014 - 2016</th> <td>    0.1607</td> <td>    0.028</td> <td>    5.834</td> <td> 0.000</td> <td>    0.107</td> <td>    0.215</td>\n",
              "</tr>\n",
              "<tr>\n",
              "  <th>anchor_year_group_2017 - 2019</th> <td>    0.1132</td> <td>    0.035</td> <td>    3.262</td> <td> 0.001</td> <td>    0.045</td> <td>    0.181</td>\n",
              "</tr>\n",
              "<tr>\n",
              "  <th>race_Asian</th>                    <td>   -0.5078</td> <td>    0.061</td> <td>   -8.363</td> <td> 0.000</td> <td>   -0.627</td> <td>   -0.389</td>\n",
              "</tr>\n",
              "<tr>\n",
              "  <th>race_Black</th>                    <td>   -0.3120</td> <td>    0.040</td> <td>   -7.831</td> <td> 0.000</td> <td>   -0.390</td> <td>   -0.234</td>\n",
              "</tr>\n",
              "<tr>\n",
              "  <th>race_Hispanic</th>                 <td>   -0.1845</td> <td>    0.058</td> <td>   -3.165</td> <td> 0.002</td> <td>   -0.299</td> <td>   -0.070</td>\n",
              "</tr>\n",
              "<tr>\n",
              "  <th>race_White</th>                    <td>   -0.1428</td> <td>    0.027</td> <td>   -5.344</td> <td> 0.000</td> <td>   -0.195</td> <td>   -0.090</td>\n",
              "</tr>\n",
              "<tr>\n",
              "  <th>diabetes_types_one</th>            <td>    0.2580</td> <td>    0.116</td> <td>    2.232</td> <td> 0.026</td> <td>    0.031</td> <td>    0.485</td>\n",
              "</tr>\n",
              "<tr>\n",
              "  <th>diabetes_types_two</th>            <td>    0.2984</td> <td>    0.052</td> <td>    5.771</td> <td> 0.000</td> <td>    0.197</td> <td>    0.400</td>\n",
              "</tr>\n",
              "<tr>\n",
              "  <th>uti</th>                           <td>   -0.6471</td> <td>    0.121</td> <td>   -5.356</td> <td> 0.000</td> <td>   -0.884</td> <td>   -0.410</td>\n",
              "</tr>\n",
              "<tr>\n",
              "  <th>biliary</th>                       <td>   -1.4249</td> <td>    0.166</td> <td>   -8.605</td> <td> 0.000</td> <td>   -1.749</td> <td>   -1.100</td>\n",
              "</tr>\n",
              "<tr>\n",
              "  <th>skin</th>                          <td>   -1.1938</td> <td>    0.222</td> <td>   -5.371</td> <td> 0.000</td> <td>   -1.629</td> <td>   -0.758</td>\n",
              "</tr>\n",
              "<tr>\n",
              "  <th>sofa</th>                          <td>    0.0529</td> <td>    0.003</td> <td>   18.130</td> <td> 0.000</td> <td>    0.047</td> <td>    0.059</td>\n",
              "</tr>\n",
              "<tr>\n",
              "  <th>hypertension_present</th>          <td>   -0.0084</td> <td>    0.034</td> <td>   -0.249</td> <td> 0.803</td> <td>   -0.075</td> <td>    0.058</td>\n",
              "</tr>\n",
              "<tr>\n",
              "  <th>heart_failure_present</th>         <td>    0.1638</td> <td>    0.040</td> <td>    4.129</td> <td> 0.000</td> <td>    0.086</td> <td>    0.242</td>\n",
              "</tr>\n",
              "<tr>\n",
              "  <th>copd_present</th>                  <td>   -0.1287</td> <td>    0.040</td> <td>   -3.236</td> <td> 0.001</td> <td>   -0.207</td> <td>   -0.051</td>\n",
              "</tr>\n",
              "<tr>\n",
              "  <th>cad_present</th>                   <td>   -0.0115</td> <td>    0.039</td> <td>   -0.298</td> <td> 0.766</td> <td>   -0.087</td> <td>    0.064</td>\n",
              "</tr>\n",
              "</table>"
            ],
            "text/plain": [
              "<class 'statsmodels.iolib.summary.Summary'>\n",
              "\"\"\"\n",
              "                            Logit Regression Results                           \n",
              "===============================================================================\n",
              "Dep. Variable:     hadMeasurmentDayOne   No. Observations:                40698\n",
              "Model:                           Logit   Df Residuals:                    40676\n",
              "Method:                            MLE   Df Model:                           21\n",
              "Date:                 Fri, 07 Jul 2023   Pseudo R-squ.:                 0.03008\n",
              "Time:                         22:58:47   Log-Likelihood:                -27361.\n",
              "converged:                        True   LL-Null:                       -28210.\n",
              "Covariance Type:             nonrobust   LLR p-value:                     0.000\n",
              "=================================================================================================\n",
              "                                    coef    std err          z      P>|z|      [0.025      0.975]\n",
              "-------------------------------------------------------------------------------------------------\n",
              "ckd_stages                       -0.0016      0.013     -0.118      0.906      -0.027       0.024\n",
              "age                              -0.0068      0.001    -12.130      0.000      -0.008      -0.006\n",
              "charlson_comorbidity_index        0.0217      0.005      4.704      0.000       0.013       0.031\n",
              "diabetes_with_cc                  0.1503      0.042      3.595      0.000       0.068       0.232\n",
              "diabetes_without_cc               0.5762      0.029     19.977      0.000       0.520       0.633\n",
              "anchor_year_group_2011 - 2013    -0.0301      0.025     -1.190      0.234      -0.080       0.020\n",
              "anchor_year_group_2014 - 2016     0.1607      0.028      5.834      0.000       0.107       0.215\n",
              "anchor_year_group_2017 - 2019     0.1132      0.035      3.262      0.001       0.045       0.181\n",
              "race_Asian                       -0.5078      0.061     -8.363      0.000      -0.627      -0.389\n",
              "race_Black                       -0.3120      0.040     -7.831      0.000      -0.390      -0.234\n",
              "race_Hispanic                    -0.1845      0.058     -3.165      0.002      -0.299      -0.070\n",
              "race_White                       -0.1428      0.027     -5.344      0.000      -0.195      -0.090\n",
              "diabetes_types_one                0.2580      0.116      2.232      0.026       0.031       0.485\n",
              "diabetes_types_two                0.2984      0.052      5.771      0.000       0.197       0.400\n",
              "uti                              -0.6471      0.121     -5.356      0.000      -0.884      -0.410\n",
              "biliary                          -1.4249      0.166     -8.605      0.000      -1.749      -1.100\n",
              "skin                             -1.1938      0.222     -5.371      0.000      -1.629      -0.758\n",
              "sofa                              0.0529      0.003     18.130      0.000       0.047       0.059\n",
              "hypertension_present             -0.0084      0.034     -0.249      0.803      -0.075       0.058\n",
              "heart_failure_present             0.1638      0.040      4.129      0.000       0.086       0.242\n",
              "copd_present                     -0.1287      0.040     -3.236      0.001      -0.207      -0.051\n",
              "cad_present                      -0.0115      0.039     -0.298      0.766      -0.087       0.064\n",
              "=================================================================================================\n",
              "\"\"\""
            ]
          },
          "execution_count": 11,
          "metadata": {},
          "output_type": "execute_result"
        }
      ],
      "source": [
        "result.summary()"
      ]
    },
    {
      "cell_type": "code",
      "execution_count": null,
      "metadata": {
        "id": "AzkJjlwqB2pX"
      },
      "outputs": [],
      "source": []
    }
  ],
  "metadata": {
    "colab": {
      "include_colab_link": true,
      "provenance": []
    },
    "kernelspec": {
      "display_name": "Python 3",
      "name": "python3"
    },
    "language_info": {
      "codemirror_mode": {
        "name": "ipython",
        "version": 3
      },
      "file_extension": ".py",
      "mimetype": "text/x-python",
      "name": "python",
      "nbconvert_exporter": "python",
      "pygments_lexer": "ipython3",
      "version": "3.10.10"
    }
  },
  "nbformat": 4,
  "nbformat_minor": 0
}
